{
 "cells": [
  {
   "cell_type": "code",
   "execution_count": null,
   "metadata": {},
   "outputs": [],
   "source": [
    "import numpy as np\n",
    "from hmmlearn import hmm\n"
   ]
  },
  {
   "cell_type": "markdown",
   "metadata": {},
   "source": [
    "## Part 1: Train an HMM"
   ]
  },
  {
   "cell_type": "code",
   "execution_count": null,
   "metadata": {},
   "outputs": [],
   "source": [
    " # Number of hidden states (e.g., 0: Sunny, 1: Rainy)\n",
    "n_states = 2\n",
    "# Number of observable actions (e.g., 0: Walk, 1: Shop, )\n",
    "n_observations = 3 "
   ]
  },
  {
   "cell_type": "code",
   "execution_count": null,
   "metadata": {},
   "outputs": [
    {
     "name": "stdout",
     "output_type": "stream",
     "text": [
      "\n",
      "--- Fitting Model to Data ---\n",
      "Learned Transition Matrix:\n",
      " [[0.826 0.174]\n",
      " [1.    0.   ]]\n",
      "\n",
      "Learned Emission Matrix:\n",
      " [[0.233 0.511 0.255]\n",
      " [0.997 0.001 0.002]]\n"
     ]
    }
   ],
   "source": [
    "# 1. Define Training Data (sequence of observations)\n",
    "train_obs = np.array([[0], [1], [2], [0], [1], [1], [2], [0], [0], [1]])\n",
    "\n",
    "# 2. Create a new HMM instance for learning\n",
    "# We only specify the number of states; parameters will be learned\n",
    "model = hmm.CategoricalHMM(n_components=n_states, n_iter=100, random_state=42)\n",
    "\n",
    "# 3. Fit the model \n",
    "model.fit(train_obs)"
   ]
  },
  {
   "cell_type": "code",
   "execution_count": 8,
   "metadata": {},
   "outputs": [
    {
     "name": "stdout",
     "output_type": "stream",
     "text": [
      "Learned Transition Matrix:\n",
      " [[0.826 0.174]\n",
      " [1.    0.   ]]\n",
      "\n",
      "Learned Emission Matrix:\n",
      " [[0.233 0.511 0.255]\n",
      " [0.997 0.001 0.002]]\n"
     ]
    }
   ],
   "source": [
    "print(\"Learned Transition Matrix:\\n\", np.round(learn_model.transmat_, 3))\n",
    "print(\"\\nLearned Emission Matrix:\\n\", np.round(learn_model.emissionprob_, 3))\n"
   ]
  },
  {
   "cell_type": "markdown",
   "metadata": {},
   "source": [
    "## Part 2"
   ]
  },
  {
   "cell_type": "code",
   "execution_count": 10,
   "metadata": {},
   "outputs": [],
   "source": [
    "n_states = 2 \n",
    "n_observations = 3 \n",
    "\n",
    "start_prob = np.array([0.6, 0.4])\n",
    "\n",
    "# P(next_state | current_state)\n",
    "trans_prob = np.array([\n",
    "  [0.7, 0.3], # Sunny -> (Sunny, Rainy)\n",
    "  [0.4, 0.6]  # Rainy -> (Sunny, Rainy)\n",
    "])\n",
    "\n",
    "# P(observation | state)\n",
    "emit_prob = np.array([\n",
    "  [0.6, 0.3, 0.1], # Sunny: (Walk, Shop, Clean)\n",
    "  [0.1, 0.4, 0.5]  # Rainy: (Walk, Shop, Clean)\n",
    "])"
   ]
  },
  {
   "cell_type": "code",
   "execution_count": 11,
   "metadata": {},
   "outputs": [],
   "source": [
    "model = hmm.CategoricalHMM(n_components=n_states, random_state=42)\n",
    "\n",
    "model.startprob_ = start_prob\n",
    "model.transmat_ = trans_prob\n",
    "model.emissionprob_ = emit_prob"
   ]
  },
  {
   "cell_type": "code",
   "execution_count": 12,
   "metadata": {},
   "outputs": [],
   "source": [
    "# Example: Walk, Shop, Clean, Walk -> [0, 1, 2, 0]\n",
    "obs_seq = np.array([[0], [1], [2], [0]]) \n",
    "# Must be 2D: (n_samples, n_features=1)"
   ]
  },
  {
   "cell_type": "code",
   "execution_count": 13,
   "metadata": {},
   "outputs": [],
   "source": [
    "logprob, hidden_states = model.decode(obs_seq, algorithm=\"viterbi\")"
   ]
  },
  {
   "cell_type": "code",
   "execution_count": 14,
   "metadata": {},
   "outputs": [
    {
     "name": "stdout",
     "output_type": "stream",
     "text": [
      "--- Using Defined Model ---\n",
      "Observation sequence (numeric): [0 1 2 0]\n",
      "Most likely hidden states (numeric): [0 1 1 0]\n",
      "Log Probability of sequence: -5.7730\n"
     ]
    }
   ],
   "source": [
    "print(\"--- Using Defined Model ---\")\n",
    "print(\"Observation sequence (numeric):\", obs_seq.flatten())\n",
    "print(\"Most likely hidden states (numeric):\", hidden_states) # 0: Sunny, 1: Rainy\n",
    "print(f\"Log Probability of sequence: {logprob:.4f}\")\n"
   ]
  }
 ],
 "metadata": {
  "kernelspec": {
   "display_name": "Python 3",
   "language": "python",
   "name": "python3"
  },
  "language_info": {
   "codemirror_mode": {
    "name": "ipython",
    "version": 3
   },
   "file_extension": ".py",
   "mimetype": "text/x-python",
   "name": "python",
   "nbconvert_exporter": "python",
   "pygments_lexer": "ipython3",
   "version": "3.11.9"
  }
 },
 "nbformat": 4,
 "nbformat_minor": 2
}
